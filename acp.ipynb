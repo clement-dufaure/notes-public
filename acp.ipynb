{
 "cells": [
  {
   "cell_type": "markdown",
   "metadata": {},
   "source": [
    "# EXO1\n"
   ]
  },
  {
   "cell_type": "code",
   "execution_count": 14,
   "metadata": {},
   "outputs": [],
   "source": [
    "library(\"ggplot2\")\n",
    "library(\"ggforce\")"
   ]
  },
  {
   "cell_type": "code",
   "execution_count": 2,
   "metadata": {},
   "outputs": [],
   "source": [
    "# Create the data\n",
    "data = data.frame(math=c(1,2,3,4,5,6,7,8,9,10,11),\n",
    "                  musique=c(6,1,4,5,3,2,9,7,8,10,11),\n",
    "                  francais=c(2,6,1,3,4,5,8,9,7,10,11))\n"
   ]
  },
  {
   "cell_type": "code",
   "execution_count": 3,
   "metadata": {},
   "outputs": [
    {
     "data": {
      "text/html": [
       "<table>\n",
       "<caption>A data.frame: 11 × 3</caption>\n",
       "<thead>\n",
       "\t<tr><th scope=col>math</th><th scope=col>musique</th><th scope=col>francais</th></tr>\n",
       "\t<tr><th scope=col>&lt;dbl&gt;</th><th scope=col>&lt;dbl&gt;</th><th scope=col>&lt;dbl&gt;</th></tr>\n",
       "</thead>\n",
       "<tbody>\n",
       "\t<tr><td> 1</td><td> 6</td><td> 2</td></tr>\n",
       "\t<tr><td> 2</td><td> 1</td><td> 6</td></tr>\n",
       "\t<tr><td> 3</td><td> 4</td><td> 1</td></tr>\n",
       "\t<tr><td> 4</td><td> 5</td><td> 3</td></tr>\n",
       "\t<tr><td> 5</td><td> 3</td><td> 4</td></tr>\n",
       "\t<tr><td> 6</td><td> 2</td><td> 5</td></tr>\n",
       "\t<tr><td> 7</td><td> 9</td><td> 8</td></tr>\n",
       "\t<tr><td> 8</td><td> 7</td><td> 9</td></tr>\n",
       "\t<tr><td> 9</td><td> 8</td><td> 7</td></tr>\n",
       "\t<tr><td>10</td><td>10</td><td>10</td></tr>\n",
       "\t<tr><td>11</td><td>11</td><td>11</td></tr>\n",
       "</tbody>\n",
       "</table>\n"
      ],
      "text/latex": [
       "A data.frame: 11 × 3\n",
       "\\begin{tabular}{r|lll}\n",
       " math & musique & francais\\\\\n",
       " <dbl> & <dbl> & <dbl>\\\\\n",
       "\\hline\n",
       "\t  1 &  6 &  2\\\\\n",
       "\t  2 &  1 &  6\\\\\n",
       "\t  3 &  4 &  1\\\\\n",
       "\t  4 &  5 &  3\\\\\n",
       "\t  5 &  3 &  4\\\\\n",
       "\t  6 &  2 &  5\\\\\n",
       "\t  7 &  9 &  8\\\\\n",
       "\t  8 &  7 &  9\\\\\n",
       "\t  9 &  8 &  7\\\\\n",
       "\t 10 & 10 & 10\\\\\n",
       "\t 11 & 11 & 11\\\\\n",
       "\\end{tabular}\n"
      ],
      "text/markdown": [
       "\n",
       "A data.frame: 11 × 3\n",
       "\n",
       "| math &lt;dbl&gt; | musique &lt;dbl&gt; | francais &lt;dbl&gt; |\n",
       "|---|---|---|\n",
       "|  1 |  6 |  2 |\n",
       "|  2 |  1 |  6 |\n",
       "|  3 |  4 |  1 |\n",
       "|  4 |  5 |  3 |\n",
       "|  5 |  3 |  4 |\n",
       "|  6 |  2 |  5 |\n",
       "|  7 |  9 |  8 |\n",
       "|  8 |  7 |  9 |\n",
       "|  9 |  8 |  7 |\n",
       "| 10 | 10 | 10 |\n",
       "| 11 | 11 | 11 |\n",
       "\n"
      ],
      "text/plain": [
       "   math musique francais\n",
       "1   1    6       2      \n",
       "2   2    1       6      \n",
       "3   3    4       1      \n",
       "4   4    5       3      \n",
       "5   5    3       4      \n",
       "6   6    2       5      \n",
       "7   7    9       8      \n",
       "8   8    7       9      \n",
       "9   9    8       7      \n",
       "10 10   10      10      \n",
       "11 11   11      11      "
      ]
     },
     "metadata": {},
     "output_type": "display_data"
    }
   ],
   "source": [
    "# Show data\n",
    "data"
   ]
  },
  {
   "cell_type": "markdown",
   "metadata": {},
   "source": [
    "On centre les données"
   ]
  },
  {
   "cell_type": "code",
   "execution_count": 4,
   "metadata": {},
   "outputs": [],
   "source": [
    "data=scale(data,center=TRUE,scale=FALSE)"
   ]
  },
  {
   "cell_type": "code",
   "execution_count": 5,
   "metadata": {},
   "outputs": [
    {
     "data": {
      "text/html": [
       "<table>\n",
       "<caption>A matrix: 3 × 3 of type dbl</caption>\n",
       "<thead>\n",
       "\t<tr><th></th><th scope=col>math</th><th scope=col>musique</th><th scope=col>francais</th></tr>\n",
       "</thead>\n",
       "<tbody>\n",
       "\t<tr><th scope=row>math</th><td>11.0</td><td> 8.3</td><td> 9.5</td></tr>\n",
       "\t<tr><th scope=row>musique</th><td> 8.3</td><td>11.0</td><td> 7.5</td></tr>\n",
       "\t<tr><th scope=row>francais</th><td> 9.5</td><td> 7.5</td><td>11.0</td></tr>\n",
       "</tbody>\n",
       "</table>\n"
      ],
      "text/latex": [
       "A matrix: 3 × 3 of type dbl\n",
       "\\begin{tabular}{r|lll}\n",
       "  & math & musique & francais\\\\\n",
       "\\hline\n",
       "\tmath & 11.0 &  8.3 &  9.5\\\\\n",
       "\tmusique &  8.3 & 11.0 &  7.5\\\\\n",
       "\tfrancais &  9.5 &  7.5 & 11.0\\\\\n",
       "\\end{tabular}\n"
      ],
      "text/markdown": [
       "\n",
       "A matrix: 3 × 3 of type dbl\n",
       "\n",
       "| <!--/--> | math | musique | francais |\n",
       "|---|---|---|---|\n",
       "| math | 11.0 |  8.3 |  9.5 |\n",
       "| musique |  8.3 | 11.0 |  7.5 |\n",
       "| francais |  9.5 |  7.5 | 11.0 |\n",
       "\n"
      ],
      "text/plain": [
       "         math musique francais\n",
       "math     11.0  8.3     9.5    \n",
       "musique   8.3 11.0     7.5    \n",
       "francais  9.5  7.5    11.0    "
      ]
     },
     "metadata": {},
     "output_type": "display_data"
    }
   ],
   "source": [
    "cov(data)"
   ]
  },
  {
   "cell_type": "markdown",
   "metadata": {},
   "source": [
    "**Attention**  : En R, on obtient avec la fonction cov, la variance corrigée soit \n",
    "$\\frac{n}{n-1}cov$\n"
   ]
  },
  {
   "cell_type": "code",
   "execution_count": 6,
   "metadata": {},
   "outputs": [
    {
     "data": {
      "text/html": [
       "<table>\n",
       "<caption>A matrix: 3 × 3 of type dbl</caption>\n",
       "<thead>\n",
       "\t<tr><th></th><th scope=col>math</th><th scope=col>musique</th><th scope=col>francais</th></tr>\n",
       "</thead>\n",
       "<tbody>\n",
       "\t<tr><th scope=row>math</th><td>10.00</td><td> 7.55</td><td> 8.64</td></tr>\n",
       "\t<tr><th scope=row>musique</th><td> 7.55</td><td>10.00</td><td> 6.82</td></tr>\n",
       "\t<tr><th scope=row>francais</th><td> 8.64</td><td> 6.82</td><td>10.00</td></tr>\n",
       "</tbody>\n",
       "</table>\n"
      ],
      "text/latex": [
       "A matrix: 3 × 3 of type dbl\n",
       "\\begin{tabular}{r|lll}\n",
       "  & math & musique & francais\\\\\n",
       "\\hline\n",
       "\tmath & 10.00 &  7.55 &  8.64\\\\\n",
       "\tmusique &  7.55 & 10.00 &  6.82\\\\\n",
       "\tfrancais &  8.64 &  6.82 & 10.00\\\\\n",
       "\\end{tabular}\n"
      ],
      "text/markdown": [
       "\n",
       "A matrix: 3 × 3 of type dbl\n",
       "\n",
       "| <!--/--> | math | musique | francais |\n",
       "|---|---|---|---|\n",
       "| math | 10.00 |  7.55 |  8.64 |\n",
       "| musique |  7.55 | 10.00 |  6.82 |\n",
       "| francais |  8.64 |  6.82 | 10.00 |\n",
       "\n"
      ],
      "text/plain": [
       "         math  musique francais\n",
       "math     10.00  7.55    8.64   \n",
       "musique   7.55 10.00    6.82   \n",
       "francais  8.64  6.82   10.00   "
      ]
     },
     "metadata": {},
     "output_type": "display_data"
    }
   ],
   "source": [
    "vraicov = (10/11)* cov(data)\n",
    "round(vraicov,2)"
   ]
  },
  {
   "cell_type": "markdown",
   "metadata": {},
   "source": [
    "# Notations et calcul\n",
    "\n",
    "$Y$ Données centrées\n",
    "\n",
    "$V=Y^TPY$ Matrice de variance-covariance\n",
    "\n",
    "$M_{IV}$ Métrique inverse des variance\n",
    "\n",
    "$$\n",
    "M_{IV}=\n",
    "\\begin{pmatrix}\n",
    "1/\\sigma^2_{math} & 0 & 0 \\\\\n",
    "0 & 1/\\sigma^2_{musique} & 0 \\\\\n",
    "0 & 0 &1/\\sigma^2_{français}\n",
    "\\end{pmatrix}\n",
    "$$\n",
    "\n",
    "$$\n",
    "M^{1/2}_{IV}=\n",
    "\\begin{pmatrix}\n",
    "1/\\sigma_{math} & 0 & 0 \\\\\n",
    "0 & 1/\\sigma_{musique} & 0 \\\\\n",
    "0 & 0 &1/\\sigma_{français}\n",
    "\\end{pmatrix}\n",
    "$$\n",
    "\n",
    "$M^{1/2}_{IV}VM^{1/2}_{IV}$ Matrice de corrélation\n",
    "\n",
    "\n",
    "# ACP normée\n",
    "\n",
    "- Pondération P\n",
    "\n",
    "## Point de vue métrique inverse des variances\n",
    "\n",
    "- Données : $Y$\n",
    "- Métrique : $M_{IV}$\n",
    "- Matrice d'inertie : $Y^TPYM_{IV}$\n",
    "\n",
    "$$\n",
    "=\n",
    "\\begin{pmatrix}\n",
    "\\sigma^2_{math}/\\sigma^2_{math} & cov(math,musique)/\\sigma^2_{musique}& cov(math,français)/\\sigma^2_{français} \\\\\n",
    "cov(math,musique)/\\sigma^2_{math} & \\sigma^2_{musique}/\\sigma^2_{musique}& cov(musique,français)/\\sigma^2_{français} \\\\\n",
    "cov(math,francais)//\\sigma^2_{math} & cov(musique,français)/\\sigma^2_{musique}& \\sigma^2_{francais}/\\sigma^2_{français} \\\\\n",
    "\\end{pmatrix}\n",
    "$$\n",
    "- Distances : $y_i^TM_{IV}y_i$\n",
    "$$\n",
    "= \\frac{1}{\\sigma^2_{math}} y_{i,math}^2 + \\frac{1}{\\sigma^2_{musique}} y_{i,musique}^2 + \\frac{1}{\\sigma^2_{français}} y_{i,français}^2 \n",
    "$$\n",
    "\n",
    "## Point de vue utilisation des données réduites\n",
    "\n",
    "- Données : $Z=YM_{IV}^{1/2}$\n",
    "- Métrique : $I_3$\n",
    "- Matrice d'inertie : $Z^TPZI_3 = M_{IV}^{1/2}Y^TPYM_{IV}^{1/2}$ : matrice de corrélation\n",
    "\n",
    "$$\n",
    "=\n",
    "\\begin{pmatrix}\n",
    "\\sigma^2_{math}/\\sigma^2_{math} & \\frac{cov(math,musique)}{\\sigma_{math}\\sigma_{musique}} & \\frac{cov(math,français)}{\\sigma_{math}\\sigma_{français}} \\\\\n",
    "\\frac{cov(math,musique)}{\\sigma_{math}\\sigma_{musique}} & \\sigma^2_{musique}/\\sigma^2_{musique}& \\frac{cov(musique,français)}{\\sigma_{musique}\\sigma_{français}} \\\\\n",
    "\\frac{cov(math,français)}{\\sigma_{math}\\sigma_{français}} & \\frac{cov(musique,français)}{\\sigma_{musique}\\sigma_{français}}& \\sigma^2_{francais}/\\sigma^2_{français} \\\\\n",
    "\\end{pmatrix}\n",
    "$$\n",
    "\n",
    "- Distances : $z_i^TI_3z_i = (M^{1/2}_{IV}y_i)^T(M^{1/2}_{IV}y_i)=y_i^TM_{IV}y_i$\n",
    "$$\n",
    "= \\left(\\frac{1}{\\sigma_{math}} y_{i,math}\\right)^2 + \\left(\\frac{1}{\\sigma_{musique}} y_{i,musique}\\right)^2 + \\left(\\frac{1}{\\sigma_{français}} y_{i,français}\\right)^2 \n",
    "$$\n",
    "\n",
    "## Synthèse\n",
    "\n",
    "Même calcul de distances vis à vis des points initaux (non réduits) $\\implies$ Mêmes axes principaux $\\implies$ Mêmes vecteurs propres\n"
   ]
  },
  {
   "cell_type": "markdown",
   "metadata": {},
   "source": [
    "# Diagonalisation"
   ]
  },
  {
   "cell_type": "code",
   "execution_count": 7,
   "metadata": {},
   "outputs": [
    {
     "data": {
      "text/html": [
       "<table>\n",
       "<caption>A matrix: 3 × 3 of type dbl</caption>\n",
       "<thead>\n",
       "\t<tr><th></th><th scope=col>math</th><th scope=col>musique</th><th scope=col>francais</th></tr>\n",
       "</thead>\n",
       "<tbody>\n",
       "\t<tr><th scope=row>math</th><td>10.000000</td><td> 7.545455</td><td> 8.636364</td></tr>\n",
       "\t<tr><th scope=row>musique</th><td> 7.545455</td><td>10.000000</td><td> 6.818182</td></tr>\n",
       "\t<tr><th scope=row>francais</th><td> 8.636364</td><td> 6.818182</td><td>10.000000</td></tr>\n",
       "</tbody>\n",
       "</table>\n"
      ],
      "text/latex": [
       "A matrix: 3 × 3 of type dbl\n",
       "\\begin{tabular}{r|lll}\n",
       "  & math & musique & francais\\\\\n",
       "\\hline\n",
       "\tmath & 10.000000 &  7.545455 &  8.636364\\\\\n",
       "\tmusique &  7.545455 & 10.000000 &  6.818182\\\\\n",
       "\tfrancais &  8.636364 &  6.818182 & 10.000000\\\\\n",
       "\\end{tabular}\n"
      ],
      "text/markdown": [
       "\n",
       "A matrix: 3 × 3 of type dbl\n",
       "\n",
       "| <!--/--> | math | musique | francais |\n",
       "|---|---|---|---|\n",
       "| math | 10.000000 |  7.545455 |  8.636364 |\n",
       "| musique |  7.545455 | 10.000000 |  6.818182 |\n",
       "| francais |  8.636364 |  6.818182 | 10.000000 |\n",
       "\n"
      ],
      "text/plain": [
       "         math      musique   francais \n",
       "math     10.000000  7.545455  8.636364\n",
       "musique   7.545455 10.000000  6.818182\n",
       "francais  8.636364  6.818182 10.000000"
      ]
     },
     "metadata": {},
     "output_type": "display_data"
    },
    {
     "data": {
      "text/plain": [
       "eigen() decomposition\n",
       "$values\n",
       "[1] 25.358010  3.373095  1.268896\n",
       "\n",
       "$vectors\n",
       "           [,1]       [,2]       [,3]\n",
       "[1,] -0.5979918  0.2357798  0.7660376\n",
       "[2,] -0.5518483 -0.8142494 -0.1801702\n",
       "[3,] -0.5812652  0.5304769 -0.6170292\n"
      ]
     },
     "metadata": {},
     "output_type": "display_data"
    }
   ],
   "source": [
    "# Transformation en matrice\n",
    "datam=as.matrix(data)\n",
    "\n",
    "# Matrice d'inertie\n",
    "1/11*(t(datam))%*%datam\n",
    "diagonalisation=eigen(1/11*(t(datam))%*%datam)\n",
    "diagonalisation"
   ]
  },
  {
   "cell_type": "markdown",
   "metadata": {},
   "source": [
    "Calcul des coordonnées des deux premiers individus"
   ]
  },
  {
   "cell_type": "code",
   "execution_count": 8,
   "metadata": {},
   "outputs": [
    {
     "data": {
      "text/html": [
       "<table>\n",
       "<caption>A matrix: 1 × 3 of type dbl</caption>\n",
       "<tbody>\n",
       "\t<tr><td>5.31502</td><td>-3.300807</td><td>-1.362071</td></tr>\n",
       "</tbody>\n",
       "</table>\n"
      ],
      "text/latex": [
       "A matrix: 1 × 3 of type dbl\n",
       "\\begin{tabular}{lll}\n",
       "\t 5.31502 & -3.300807 & -1.362071\\\\\n",
       "\\end{tabular}\n"
      ],
      "text/markdown": [
       "\n",
       "A matrix: 1 × 3 of type dbl\n",
       "\n",
       "| 5.31502 | -3.300807 | -1.362071 |\n",
       "\n"
      ],
      "text/plain": [
       "     [,1]    [,2]      [,3]     \n",
       "[1,] 5.31502 -3.300807 -1.362071"
      ]
     },
     "metadata": {},
     "output_type": "display_data"
    },
    {
     "data": {
      "text/html": [
       "<table>\n",
       "<caption>A matrix: 1 × 3 of type dbl</caption>\n",
       "<tbody>\n",
       "\t<tr><td>5.151209</td><td>3.128128</td><td>-2.163299</td></tr>\n",
       "</tbody>\n",
       "</table>\n"
      ],
      "text/latex": [
       "A matrix: 1 × 3 of type dbl\n",
       "\\begin{tabular}{lll}\n",
       "\t 5.151209 & 3.128128 & -2.163299\\\\\n",
       "\\end{tabular}\n"
      ],
      "text/markdown": [
       "\n",
       "A matrix: 1 × 3 of type dbl\n",
       "\n",
       "| 5.151209 | 3.128128 | -2.163299 |\n",
       "\n"
      ],
      "text/plain": [
       "     [,1]     [,2]     [,3]     \n",
       "[1,] 5.151209 3.128128 -2.163299"
      ]
     },
     "metadata": {},
     "output_type": "display_data"
    }
   ],
   "source": [
    "datam[1,]%*%diagonalisation$vectors\n",
    "datam[2,]%*%diagonalisation$vectors"
   ]
  },
  {
   "cell_type": "markdown",
   "metadata": {},
   "source": [
    "Calcul des coordonnées des variables"
   ]
  },
  {
   "cell_type": "code",
   "execution_count": 11,
   "metadata": {},
   "outputs": [
    {
     "data": {
      "text/html": [
       "<table>\n",
       "<caption>A matrix: 3 × 3 of type dbl</caption>\n",
       "<tbody>\n",
       "\t<tr><th scope=row>coordmath</th><td>-3.011292</td><td> 0.4330329</td><td> 0.8629051</td></tr>\n",
       "\t<tr><th scope=row>coordmusique</th><td>-2.778928</td><td>-1.4954494</td><td>-0.2029532</td></tr>\n",
       "\t<tr><th scope=row>coordfrancais</th><td>-2.927062</td><td> 0.9742731</td><td>-0.6950542</td></tr>\n",
       "</tbody>\n",
       "</table>\n"
      ],
      "text/latex": [
       "A matrix: 3 × 3 of type dbl\n",
       "\\begin{tabular}{r|lll}\n",
       "\tcoordmath & -3.011292 &  0.4330329 &  0.8629051\\\\\n",
       "\tcoordmusique & -2.778928 & -1.4954494 & -0.2029532\\\\\n",
       "\tcoordfrancais & -2.927062 &  0.9742731 & -0.6950542\\\\\n",
       "\\end{tabular}\n"
      ],
      "text/markdown": [
       "\n",
       "A matrix: 3 × 3 of type dbl\n",
       "\n",
       "| coordmath | -3.011292 |  0.4330329 |  0.8629051 |\n",
       "| coordmusique | -2.778928 | -1.4954494 | -0.2029532 |\n",
       "| coordfrancais | -2.927062 |  0.9742731 | -0.6950542 |\n",
       "\n"
      ],
      "text/plain": [
       "              [,1]      [,2]       [,3]      \n",
       "coordmath     -3.011292  0.4330329  0.8629051\n",
       "coordmusique  -2.778928 -1.4954494 -0.2029532\n",
       "coordfrancais -2.927062  0.9742731 -0.6950542"
      ]
     },
     "metadata": {},
     "output_type": "display_data"
    }
   ],
   "source": [
    "coordmath = sqrt(diagonalisation$values)*diagonalisation$vectors[1,]\n",
    "coordmusique = sqrt(diagonalisation$values)*diagonalisation$vectors[2,]\n",
    "coordfrancais = sqrt(diagonalisation$values)*diagonalisation$vectors[3,]\n",
    "\n",
    "variables=rbind(coordmath,coordmusique,coordfrancais)\n",
    "variables"
   ]
  },
  {
   "cell_type": "code",
   "execution_count": 12,
   "metadata": {},
   "outputs": [
    {
     "data": {
      "image/png": "[encoded data removed]",
      "text/plain": [
       "plot without title"
      ]
     },
     "metadata": {},
     "output_type": "display_data"
    }
   ],
   "source": [
    "qplot(variables[,1],variables[,2],xlim=c(-3.1,3.1),ylim=c(-3.1,3.1)) + geom_hline(yintercept=0) + geom_vline(xintercept=0)"
   ]
  },
  {
   "cell_type": "code",
   "execution_count": 15,
   "metadata": {},
   "outputs": [
    {
     "data": {
      "image/png": "[encoded data removed]",
      "text/plain": [
       "plot without title"
      ]
     },
     "metadata": {},
     "output_type": "display_data"
    }
   ],
   "source": [
    "variablesreduites=variables/sqrt(10)\n",
    "plan12=data.frame(x=variablesreduites[,1],y=variablesreduites[,2])\n",
    "\n",
    "ggplot() +\n",
    "xlim(-1,1) + ylim(-1,1) +\n",
    "geom_hline(yintercept=0) + geom_vline(xintercept=0) +\n",
    "geom_point(aes(x = x, y = y),plan12) +\n",
    "geom_circle(aes(x0 = x0, y0 = y0, r = r), data = data.frame(x0 = 0,y0 = 0,r = 1)) "
   ]
  }
 ],
 "metadata": {
  "kernelspec": {
   "display_name": "R",
   "language": "R",
   "name": "ir"
  },
  "language_info": {
   "codemirror_mode": "r",
   "file_extension": ".r",
   "mimetype": "text/x-r-source",
   "name": "R",
   "pygments_lexer": "r",
   "version": "3.6.1"
  }
 },
 "nbformat": 4,
 "nbformat_minor": 2
}
