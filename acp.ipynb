{
 "cells": [
  {
   "cell_type": "markdown",
   "metadata": {},
   "source": [
    "# EXO1\n",
    "Introduction à l'ACP"
   ]
  },
  {
   "cell_type": "code",
   "execution_count": 10,
   "metadata": {},
   "outputs": [],
   "source": [
    "library(\"ggplot2\")"
   ]
  },
  {
   "cell_type": "code",
   "execution_count": 11,
   "metadata": {},
   "outputs": [],
   "source": [
    "# Create the data\n",
    "data = data.frame(math=c(1,2,3,4,5,6,7,8,9,10,11),\n",
    "                  musique=c(6,1,4,5,3,2,9,7,8,10,11),\n",
    "                  francais=c(2,6,1,3,4,5,8,9,7,10,11))\n"
   ]
  },
  {
   "cell_type": "code",
   "execution_count": 12,
   "metadata": {},
   "outputs": [
    {
     "data": {
      "text/html": [
       "<table>\n",
       "<caption>A data.frame: 11 × 3</caption>\n",
       "<thead>\n",
       "\t<tr><th scope=col>math</th><th scope=col>musique</th><th scope=col>francais</th></tr>\n",
       "\t<tr><th scope=col>&lt;dbl&gt;</th><th scope=col>&lt;dbl&gt;</th><th scope=col>&lt;dbl&gt;</th></tr>\n",
       "</thead>\n",
       "<tbody>\n",
       "\t<tr><td> 1</td><td> 6</td><td> 2</td></tr>\n",
       "\t<tr><td> 2</td><td> 1</td><td> 6</td></tr>\n",
       "\t<tr><td> 3</td><td> 4</td><td> 1</td></tr>\n",
       "\t<tr><td> 4</td><td> 5</td><td> 3</td></tr>\n",
       "\t<tr><td> 5</td><td> 3</td><td> 4</td></tr>\n",
       "\t<tr><td> 6</td><td> 2</td><td> 5</td></tr>\n",
       "\t<tr><td> 7</td><td> 9</td><td> 8</td></tr>\n",
       "\t<tr><td> 8</td><td> 7</td><td> 9</td></tr>\n",
       "\t<tr><td> 9</td><td> 8</td><td> 7</td></tr>\n",
       "\t<tr><td>10</td><td>10</td><td>10</td></tr>\n",
       "\t<tr><td>11</td><td>11</td><td>11</td></tr>\n",
       "</tbody>\n",
       "</table>\n"
      ],
      "text/latex": [
       "A data.frame: 11 × 3\n",
       "\\begin{tabular}{r|lll}\n",
       " math & musique & francais\\\\\n",
       " <dbl> & <dbl> & <dbl>\\\\\n",
       "\\hline\n",
       "\t  1 &  6 &  2\\\\\n",
       "\t  2 &  1 &  6\\\\\n",
       "\t  3 &  4 &  1\\\\\n",
       "\t  4 &  5 &  3\\\\\n",
       "\t  5 &  3 &  4\\\\\n",
       "\t  6 &  2 &  5\\\\\n",
       "\t  7 &  9 &  8\\\\\n",
       "\t  8 &  7 &  9\\\\\n",
       "\t  9 &  8 &  7\\\\\n",
       "\t 10 & 10 & 10\\\\\n",
       "\t 11 & 11 & 11\\\\\n",
       "\\end{tabular}\n"
      ],
      "text/markdown": [
       "\n",
       "A data.frame: 11 × 3\n",
       "\n",
       "| math &lt;dbl&gt; | musique &lt;dbl&gt; | francais &lt;dbl&gt; |\n",
       "|---|---|---|\n",
       "|  1 |  6 |  2 |\n",
       "|  2 |  1 |  6 |\n",
       "|  3 |  4 |  1 |\n",
       "|  4 |  5 |  3 |\n",
       "|  5 |  3 |  4 |\n",
       "|  6 |  2 |  5 |\n",
       "|  7 |  9 |  8 |\n",
       "|  8 |  7 |  9 |\n",
       "|  9 |  8 |  7 |\n",
       "| 10 | 10 | 10 |\n",
       "| 11 | 11 | 11 |\n",
       "\n"
      ],
      "text/plain": [
       "   math musique francais\n",
       "1   1    6       2      \n",
       "2   2    1       6      \n",
       "3   3    4       1      \n",
       "4   4    5       3      \n",
       "5   5    3       4      \n",
       "6   6    2       5      \n",
       "7   7    9       8      \n",
       "8   8    7       9      \n",
       "9   9    8       7      \n",
       "10 10   10      10      \n",
       "11 11   11      11      "
      ]
     },
     "metadata": {},
     "output_type": "display_data"
    }
   ],
   "source": [
    "# Show data\n",
    "data"
   ]
  },
  {
   "cell_type": "code",
   "execution_count": null,
   "metadata": {},
   "outputs": [],
   "source": [
    "cov(data)"
   ]
  }
 ],
 "metadata": {
  "kernelspec": {
   "display_name": "R",
   "language": "R",
   "name": "ir"
  },
  "language_info": {
   "codemirror_mode": "r",
   "file_extension": ".r",
   "mimetype": "text/x-r-source",
   "name": "R",
   "pygments_lexer": "r",
   "version": "3.6.1"
  }
 },
 "nbformat": 4,
 "nbformat_minor": 2
}
