{
 "cells": [
  {
   "cell_type": "markdown",
   "metadata": {},
   "source": [
    "# EXO1\n"
   ]
  },
  {
   "cell_type": "code",
   "execution_count": null,
   "metadata": {},
   "outputs": [],
   "source": [
    "library(\"ggplot2\")"
   ]
  },
  {
   "cell_type": "code",
   "execution_count": null,
   "metadata": {},
   "outputs": [],
   "source": [
    "# Create the data\n",
    "data = data.frame(math=c(1,2,3,4,5,6,7,8,9,10,11),\n",
    "                  musique=c(6,1,4,5,3,2,9,7,8,10,11),\n",
    "                  francais=c(2,6,1,3,4,5,8,9,7,10,11))\n"
   ]
  },
  {
   "cell_type": "code",
   "execution_count": null,
   "metadata": {},
   "outputs": [],
   "source": [
    "# Show data\n",
    "data"
   ]
  },
  {
   "cell_type": "markdown",
   "metadata": {},
   "source": [
    "On centre les données"
   ]
  },
  {
   "cell_type": "code",
   "execution_count": null,
   "metadata": {},
   "outputs": [],
   "source": [
    "data=scale(data,center=TRUE,scale=FALSE)"
   ]
  },
  {
   "cell_type": "code",
   "execution_count": null,
   "metadata": {},
   "outputs": [],
   "source": [
    "cov(data)"
   ]
  },
  {
   "cell_type": "markdown",
   "metadata": {},
   "source": [
    "**Attention**  : En R, on obtient avec la fonction cov, la variance corrigée soit \n",
    "$\\frac{n}{n-1}cov$\n"
   ]
  },
  {
   "cell_type": "code",
   "execution_count": null,
   "metadata": {},
   "outputs": [],
   "source": [
    "vraicov = (10/11)* cov(data)\n",
    "round(vraicov,2)"
   ]
  },
  {
   "cell_type": "markdown",
   "metadata": {},
   "source": [
    "# Notations et calcul\n",
    "\n",
    "$Y$ Données centrées\n",
    "\n",
    "$V=Y^TPY$ Matrice de variance-covariance\n",
    "\n",
    "$M_{IV}$ Métrique inverse des variance\n",
    "\n",
    "$$\n",
    "M_{IV}=\n",
    "\\begin{pmatrix}\n",
    "1/\\sigma^2_{math} & 0 & 0 \\\\\n",
    "0 & 1/\\sigma^2_{musique} & 0 \\\\\n",
    "0 & 0 &1/\\sigma^2_{français}\n",
    "\\end{pmatrix}\n",
    "$$\n",
    "\n",
    "$$\n",
    "M^{1/2}_{IV}=\n",
    "\\begin{pmatrix}\n",
    "1/\\sigma_{math} & 0 & 0 \\\\\n",
    "0 & 1/\\sigma_{musique} & 0 \\\\\n",
    "0 & 0 &1/\\sigma_{français}\n",
    "\\end{pmatrix}\n",
    "$$\n",
    "\n",
    "$M^{1/2}_{IV}VM^{1/2}_{IV}$ Matrice de corrélation\n",
    "\n",
    "\n",
    "# ACP normée\n",
    "\n",
    "- Pondération P\n",
    "\n",
    "## Point de vue métrique inverse des variances\n",
    "\n",
    "- Données : $Y$\n",
    "- Métrique : $M_{IV}$\n",
    "- Matrice d'inertie : $Y^TPYM_{IV}$\n",
    "$$\n",
    "=\n",
    "\\begin{pmatrix}\n",
    "y_1^{math}/\\sigma^2_{math} & y_1^{musique}/\\sigma^2_{musique}& y_1^{francais}/\\sigma^2_{francais} \\\\\n",
    "y_2^{math}/\\sigma^2_{math} & y_2^{musique}/\\sigma^2_{musique}& y_2^{francais}/\\sigma^2_{francais} \\\\\n",
    "... & ... & ...\n",
    "\\end{pmatrix}\n",
    "$$\n",
    "- Distances : $y_i^TM_{IV}y_i$\n",
    "$$\n",
    "= \\frac{1}{\\sigma^2_{math}} y_{i,math}^2 + \\frac{1}{\\sigma^2_{musique}} y_{i,musique}^2 + \\frac{1}{\\sigma^2_{français}} y_{i,français}^2 \n",
    "$$\n",
    "\n",
    "## Point de vue utilisation des données réduites\n",
    "\n",
    "- Données : $Z=YM_{IV}^{1/2}$\n",
    "- Métrique : $I_3$\n",
    "- Matrice d'inertie : $Z^TPZI_3 = M_{IV}^{1/2}Y^TPYM_{IV}^{1/2}$ : matrice de corrélation\n",
    "- Distances : $z_i^TI_3z_i = (M^{1/2}_{IV}y_i)^T(M^{1/2}_{IV}y_i)=y_i^TM_{IV}y_i$\n",
    "$$\n",
    "= \\left(\\frac{1}{\\sigma_{math}} y_{i,math}\\right)^2 + \\left(\\frac{1}{\\sigma_{musique}} y_{i,musique}\\right)^2 + \\left(\\frac{1}{\\sigma_{français}} y_{i,français}\\right)^2 \n",
    "$$\n",
    "\n",
    "## Synthèse\n",
    "\n",
    "Même calcul de distances vis à vis des points initaux (non réduits) $\\implies$ Mêmes axes principaux $\\implies$ Mêmes vecteurs propres\n"
   ]
  },
  {
   "cell_type": "markdown",
   "metadata": {},
   "source": [
    "# Diagonalisation"
   ]
  },
  {
   "cell_type": "code",
   "execution_count": null,
   "metadata": {},
   "outputs": [],
   "source": [
    "# Transformation en matrice\n",
    "datam=as.matrix(data)\n",
    "\n",
    "# Matrice d'inertie\n",
    "1/11*(t(datam))%*%datam\n",
    "diagonalisation=eigen(1/11*(t(datam))%*%datam)\n",
    "diagonalisation"
   ]
  },
  {
   "cell_type": "markdown",
   "metadata": {},
   "source": [
    "Calcul des coordonnées des deux premiers individus"
   ]
  },
  {
   "cell_type": "code",
   "execution_count": null,
   "metadata": {},
   "outputs": [],
   "source": [
    "datam[1,]%*%diagonalisation$vectors\n",
    "datam[2,]%*%diagonalisation$vectors"
   ]
  },
  {
   "cell_type": "code",
   "execution_count": null,
   "metadata": {},
   "outputs": [],
   "source": [
    "Calcul des coordonnées des variables"
   ]
  },
  {
   "cell_type": "code",
   "execution_count": null,
   "metadata": {},
   "outputs": [],
   "source": [
    "coordmath = sqrt(diagonalisation$values)*diagonalisation$vectors[1,]\n",
    "coordmusique = sqrt(diagonalisation$values)*diagonalisation$vectors[2,]\n",
    "coordfrancais = sqrt(diagonalisation$values)*diagonalisation$vectors[3,]\n",
    "\n",
    "variables=rbind(coordmath,coordmusique,coordfrancais)\n",
    "variables"
   ]
  },
  {
   "cell_type": "code",
   "execution_count": null,
   "metadata": {},
   "outputs": [],
   "source": [
    "qplot(variables[,1],variables[,2],xlim=c(-3.1,3.1),ylim=c(-3.1,3.1)) + geom_hline(yintercept=0) + geom_vline(xintercept=0)"
   ]
  },
  {
   "cell_type": "code",
   "execution_count": null,
   "metadata": {},
   "outputs": [],
   "source": [
    "variablesreduites=variables/sqrt(10)\n",
    "qplot(variablesreduites[,1],variablesreduites[,2],xlim=c(-1,1),ylim=c(-1,1)) +\n",
    "geom_hline(yintercept=0) + geom_vline(xintercept=0) + \n",
    "geom_circle(aes(x0 = x0, y0 = y0, r = r), data = data.frame(x0 = 0,y0 = 0,r = 1))"
   ]
  }
 ],
 "metadata": {
  "kernelspec": {
   "display_name": "R",
   "language": "R",
   "name": "ir"
  },
  "language_info": {
   "codemirror_mode": "r",
   "file_extension": ".r",
   "mimetype": "text/x-r-source",
   "name": "R",
   "pygments_lexer": "r",
   "version": "3.6.1"
  }
 },
 "nbformat": 4,
 "nbformat_minor": 2
}
